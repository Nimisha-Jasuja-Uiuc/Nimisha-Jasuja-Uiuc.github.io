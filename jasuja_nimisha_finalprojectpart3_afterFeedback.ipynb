{
 "cells": [
  {
   "cell_type": "markdown",
   "id": "375ccaa6",
   "metadata": {},
   "source": [
    "# Authors-\n"
   ]
  },
  {
   "cell_type": "markdown",
   "id": "ebab4512",
   "metadata": {},
   "source": [
    "Nimisha Jasuja\n",
    "\n",
    "Ayan Tiwari\n",
    "\n",
    "Manan Rao"
   ]
  },
  {
   "cell_type": "markdown",
   "id": "04aa7b4e",
   "metadata": {},
   "source": [
    "# Title - Banking Plots"
   ]
  },
  {
   "cell_type": "markdown",
   "id": "556084e1",
   "metadata": {},
   "source": [
    "# Central Interactive Visualization"
   ]
  },
  {
   "cell_type": "code",
   "execution_count": 1,
   "id": "3f914617",
   "metadata": {},
   "outputs": [],
   "source": [
    "# Importing the libraries\n",
    "import pandas as pd\n",
    "import numpy as np\n",
    "import matplotlib.pyplot as plt\n",
    "%matplotlib inline\n",
    "import bqplot\n",
    "import ipywidgets"
   ]
  },
  {
   "cell_type": "code",
   "execution_count": 2,
   "id": "e0852661",
   "metadata": {},
   "outputs": [
    {
     "name": "stdout",
     "output_type": "stream",
     "text": [
      "Requirement already satisfied: bqplot==0.12.30 in c:\\users\\nimis\\.conda\\envs\\dataviz\\lib\\site-packages (0.12.30)\n",
      "Requirement already satisfied: numpy>=1.10.4 in c:\\users\\nimis\\.conda\\envs\\dataviz\\lib\\site-packages (from bqplot==0.12.30) (1.22.3)\n",
      "Requirement already satisfied: pandas in c:\\users\\nimis\\.conda\\envs\\dataviz\\lib\\site-packages (from bqplot==0.12.30) (1.4.1)\n",
      "Requirement already satisfied: traittypes>=0.0.6 in c:\\users\\nimis\\.conda\\envs\\dataviz\\lib\\site-packages (from bqplot==0.12.30) (0.2.1)\n",
      "Requirement already satisfied: ipywidgets>=7.5.0 in c:\\users\\nimis\\.conda\\envs\\dataviz\\lib\\site-packages (from bqplot==0.12.30) (7.7.0)\n",
      "Requirement already satisfied: traitlets>=4.3.0 in c:\\users\\nimis\\.conda\\envs\\dataviz\\lib\\site-packages (from bqplot==0.12.30) (5.1.1)\n",
      "Requirement already satisfied: ipython-genutils~=0.2.0 in c:\\users\\nimis\\.conda\\envs\\dataviz\\lib\\site-packages (from ipywidgets>=7.5.0->bqplot==0.12.30) (0.2.0)\n",
      "Requirement already satisfied: widgetsnbextension~=3.6.0 in c:\\users\\nimis\\.conda\\envs\\dataviz\\lib\\site-packages (from ipywidgets>=7.5.0->bqplot==0.12.30) (3.6.0)\n",
      "Requirement already satisfied: jupyterlab-widgets>=1.0.0 in c:\\users\\nimis\\.conda\\envs\\dataviz\\lib\\site-packages (from ipywidgets>=7.5.0->bqplot==0.12.30) (1.1.0)\n",
      "Requirement already satisfied: nbformat>=4.2.0 in c:\\users\\nimis\\.conda\\envs\\dataviz\\lib\\site-packages (from ipywidgets>=7.5.0->bqplot==0.12.30) (5.2.0)\n",
      "Requirement already satisfied: ipython>=4.0.0 in c:\\users\\nimis\\.conda\\envs\\dataviz\\lib\\site-packages (from ipywidgets>=7.5.0->bqplot==0.12.30) (8.1.1)\n",
      "Requirement already satisfied: ipykernel>=4.5.1 in c:\\users\\nimis\\.conda\\envs\\dataviz\\lib\\site-packages (from ipywidgets>=7.5.0->bqplot==0.12.30) (6.9.2)\n",
      "Requirement already satisfied: pytz>=2020.1 in c:\\users\\nimis\\.conda\\envs\\dataviz\\lib\\site-packages (from pandas->bqplot==0.12.30) (2022.1)\n",
      "Requirement already satisfied: python-dateutil>=2.8.1 in c:\\users\\nimis\\.conda\\envs\\dataviz\\lib\\site-packages (from pandas->bqplot==0.12.30) (2.8.2)\n",
      "Requirement already satisfied: debugpy<2.0,>=1.0.0 in c:\\users\\nimis\\.conda\\envs\\dataviz\\lib\\site-packages (from ipykernel>=4.5.1->ipywidgets>=7.5.0->bqplot==0.12.30) (1.5.1)\n",
      "Requirement already satisfied: tornado<7.0,>=4.2 in c:\\users\\nimis\\.conda\\envs\\dataviz\\lib\\site-packages (from ipykernel>=4.5.1->ipywidgets>=7.5.0->bqplot==0.12.30) (6.1)\n",
      "Requirement already satisfied: jupyter-client<8.0 in c:\\users\\nimis\\.conda\\envs\\dataviz\\lib\\site-packages (from ipykernel>=4.5.1->ipywidgets>=7.5.0->bqplot==0.12.30) (7.1.2)\n",
      "Requirement already satisfied: psutil in c:\\users\\nimis\\.conda\\envs\\dataviz\\lib\\site-packages (from ipykernel>=4.5.1->ipywidgets>=7.5.0->bqplot==0.12.30) (5.9.0)\n",
      "Requirement already satisfied: matplotlib-inline<0.2.0,>=0.1.0 in c:\\users\\nimis\\.conda\\envs\\dataviz\\lib\\site-packages (from ipykernel>=4.5.1->ipywidgets>=7.5.0->bqplot==0.12.30) (0.1.3)\n",
      "Requirement already satisfied: nest-asyncio in c:\\users\\nimis\\.conda\\envs\\dataviz\\lib\\site-packages (from ipykernel>=4.5.1->ipywidgets>=7.5.0->bqplot==0.12.30) (1.5.4)\n",
      "Requirement already satisfied: stack-data in c:\\users\\nimis\\.conda\\envs\\dataviz\\lib\\site-packages (from ipython>=4.0.0->ipywidgets>=7.5.0->bqplot==0.12.30) (0.2.0)\n",
      "Requirement already satisfied: jedi>=0.16 in c:\\users\\nimis\\.conda\\envs\\dataviz\\lib\\site-packages (from ipython>=4.0.0->ipywidgets>=7.5.0->bqplot==0.12.30) (0.18.1)\n",
      "Requirement already satisfied: setuptools>=18.5 in c:\\users\\nimis\\.conda\\envs\\dataviz\\lib\\site-packages (from ipython>=4.0.0->ipywidgets>=7.5.0->bqplot==0.12.30) (61.1.1)\n",
      "Requirement already satisfied: pygments>=2.4.0 in c:\\users\\nimis\\.conda\\envs\\dataviz\\lib\\site-packages (from ipython>=4.0.0->ipywidgets>=7.5.0->bqplot==0.12.30) (2.11.2)\n",
      "Requirement already satisfied: decorator in c:\\users\\nimis\\.conda\\envs\\dataviz\\lib\\site-packages (from ipython>=4.0.0->ipywidgets>=7.5.0->bqplot==0.12.30) (5.1.1)\n",
      "Requirement already satisfied: backcall in c:\\users\\nimis\\.conda\\envs\\dataviz\\lib\\site-packages (from ipython>=4.0.0->ipywidgets>=7.5.0->bqplot==0.12.30) (0.2.0)\n",
      "Requirement already satisfied: prompt-toolkit!=3.0.0,!=3.0.1,<3.1.0,>=2.0.0 in c:\\users\\nimis\\.conda\\envs\\dataviz\\lib\\site-packages (from ipython>=4.0.0->ipywidgets>=7.5.0->bqplot==0.12.30) (3.0.27)\n",
      "Requirement already satisfied: pickleshare in c:\\users\\nimis\\.conda\\envs\\dataviz\\lib\\site-packages (from ipython>=4.0.0->ipywidgets>=7.5.0->bqplot==0.12.30) (0.7.5)\n",
      "Requirement already satisfied: colorama in c:\\users\\nimis\\.conda\\envs\\dataviz\\lib\\site-packages (from ipython>=4.0.0->ipywidgets>=7.5.0->bqplot==0.12.30) (0.4.4)\n",
      "Requirement already satisfied: jupyter-core in c:\\users\\nimis\\.conda\\envs\\dataviz\\lib\\site-packages (from nbformat>=4.2.0->ipywidgets>=7.5.0->bqplot==0.12.30) (4.9.2)\n",
      "Requirement already satisfied: jsonschema!=2.5.0,>=2.4 in c:\\users\\nimis\\.conda\\envs\\dataviz\\lib\\site-packages (from nbformat>=4.2.0->ipywidgets>=7.5.0->bqplot==0.12.30) (4.4.0)\n",
      "Requirement already satisfied: six>=1.5 in c:\\users\\nimis\\.conda\\envs\\dataviz\\lib\\site-packages (from python-dateutil>=2.8.1->pandas->bqplot==0.12.30) (1.16.0)\n",
      "Requirement already satisfied: notebook>=4.4.1 in c:\\users\\nimis\\.conda\\envs\\dataviz\\lib\\site-packages (from widgetsnbextension~=3.6.0->ipywidgets>=7.5.0->bqplot==0.12.30) (6.4.10)\n",
      "Requirement already satisfied: parso<0.9.0,>=0.8.0 in c:\\users\\nimis\\.conda\\envs\\dataviz\\lib\\site-packages (from jedi>=0.16->ipython>=4.0.0->ipywidgets>=7.5.0->bqplot==0.12.30) (0.8.3)\n",
      "Requirement already satisfied: pyrsistent!=0.17.0,!=0.17.1,!=0.17.2,>=0.14.0 in c:\\users\\nimis\\.conda\\envs\\dataviz\\lib\\site-packages (from jsonschema!=2.5.0,>=2.4->nbformat>=4.2.0->ipywidgets>=7.5.0->bqplot==0.12.30) (0.18.1)\n",
      "Requirement already satisfied: attrs>=17.4.0 in c:\\users\\nimis\\.conda\\envs\\dataviz\\lib\\site-packages (from jsonschema!=2.5.0,>=2.4->nbformat>=4.2.0->ipywidgets>=7.5.0->bqplot==0.12.30) (21.4.0)\n",
      "Requirement already satisfied: importlib-resources>=1.4.0 in c:\\users\\nimis\\.conda\\envs\\dataviz\\lib\\site-packages (from jsonschema!=2.5.0,>=2.4->nbformat>=4.2.0->ipywidgets>=7.5.0->bqplot==0.12.30) (5.6.0)\n",
      "Requirement already satisfied: pyzmq>=13 in c:\\users\\nimis\\.conda\\envs\\dataviz\\lib\\site-packages (from jupyter-client<8.0->ipykernel>=4.5.1->ipywidgets>=7.5.0->bqplot==0.12.30) (22.3.0)\n",
      "Requirement already satisfied: entrypoints in c:\\users\\nimis\\.conda\\envs\\dataviz\\lib\\site-packages (from jupyter-client<8.0->ipykernel>=4.5.1->ipywidgets>=7.5.0->bqplot==0.12.30) (0.4)\n",
      "Requirement already satisfied: pywin32>=1.0 in c:\\users\\nimis\\.conda\\envs\\dataviz\\lib\\site-packages (from jupyter-core->nbformat>=4.2.0->ipywidgets>=7.5.0->bqplot==0.12.30) (303)\n",
      "Requirement already satisfied: Send2Trash>=1.8.0 in c:\\users\\nimis\\.conda\\envs\\dataviz\\lib\\site-packages (from notebook>=4.4.1->widgetsnbextension~=3.6.0->ipywidgets>=7.5.0->bqplot==0.12.30) (1.8.0)\n",
      "Requirement already satisfied: prometheus-client in c:\\users\\nimis\\.conda\\envs\\dataviz\\lib\\site-packages (from notebook>=4.4.1->widgetsnbextension~=3.6.0->ipywidgets>=7.5.0->bqplot==0.12.30) (0.13.1)\n",
      "Requirement already satisfied: nbconvert>=5 in c:\\users\\nimis\\.conda\\envs\\dataviz\\lib\\site-packages (from notebook>=4.4.1->widgetsnbextension~=3.6.0->ipywidgets>=7.5.0->bqplot==0.12.30) (6.4.4)\n",
      "Requirement already satisfied: terminado>=0.8.3 in c:\\users\\nimis\\.conda\\envs\\dataviz\\lib\\site-packages (from notebook>=4.4.1->widgetsnbextension~=3.6.0->ipywidgets>=7.5.0->bqplot==0.12.30) (0.13.3)\n",
      "Requirement already satisfied: jinja2 in c:\\users\\nimis\\.conda\\envs\\dataviz\\lib\\site-packages (from notebook>=4.4.1->widgetsnbextension~=3.6.0->ipywidgets>=7.5.0->bqplot==0.12.30) (3.1.1)\n",
      "Requirement already satisfied: argon2-cffi in c:\\users\\nimis\\.conda\\envs\\dataviz\\lib\\site-packages (from notebook>=4.4.1->widgetsnbextension~=3.6.0->ipywidgets>=7.5.0->bqplot==0.12.30) (21.3.0)\n",
      "Requirement already satisfied: wcwidth in c:\\users\\nimis\\.conda\\envs\\dataviz\\lib\\site-packages (from prompt-toolkit!=3.0.0,!=3.0.1,<3.1.0,>=2.0.0->ipython>=4.0.0->ipywidgets>=7.5.0->bqplot==0.12.30) (0.2.5)\n",
      "Requirement already satisfied: pure-eval in c:\\users\\nimis\\.conda\\envs\\dataviz\\lib\\site-packages (from stack-data->ipython>=4.0.0->ipywidgets>=7.5.0->bqplot==0.12.30) (0.2.2)\n",
      "Requirement already satisfied: asttokens in c:\\users\\nimis\\.conda\\envs\\dataviz\\lib\\site-packages (from stack-data->ipython>=4.0.0->ipywidgets>=7.5.0->bqplot==0.12.30) (2.0.5)\n",
      "Requirement already satisfied: executing in c:\\users\\nimis\\.conda\\envs\\dataviz\\lib\\site-packages (from stack-data->ipython>=4.0.0->ipywidgets>=7.5.0->bqplot==0.12.30) (0.8.3)\n",
      "Requirement already satisfied: zipp>=3.1.0 in c:\\users\\nimis\\.conda\\envs\\dataviz\\lib\\site-packages (from importlib-resources>=1.4.0->jsonschema!=2.5.0,>=2.4->nbformat>=4.2.0->ipywidgets>=7.5.0->bqplot==0.12.30) (3.7.0)\n",
      "Requirement already satisfied: beautifulsoup4 in c:\\users\\nimis\\.conda\\envs\\dataviz\\lib\\site-packages (from nbconvert>=5->notebook>=4.4.1->widgetsnbextension~=3.6.0->ipywidgets>=7.5.0->bqplot==0.12.30) (4.10.0)\n",
      "Requirement already satisfied: bleach in c:\\users\\nimis\\.conda\\envs\\dataviz\\lib\\site-packages (from nbconvert>=5->notebook>=4.4.1->widgetsnbextension~=3.6.0->ipywidgets>=7.5.0->bqplot==0.12.30) (4.1.0)\n",
      "Requirement already satisfied: defusedxml in c:\\users\\nimis\\.conda\\envs\\dataviz\\lib\\site-packages (from nbconvert>=5->notebook>=4.4.1->widgetsnbextension~=3.6.0->ipywidgets>=7.5.0->bqplot==0.12.30) (0.7.1)\n",
      "Requirement already satisfied: nbclient<0.6.0,>=0.5.0 in c:\\users\\nimis\\.conda\\envs\\dataviz\\lib\\site-packages (from nbconvert>=5->notebook>=4.4.1->widgetsnbextension~=3.6.0->ipywidgets>=7.5.0->bqplot==0.12.30) (0.5.13)\n",
      "Requirement already satisfied: jupyterlab-pygments in c:\\users\\nimis\\.conda\\envs\\dataviz\\lib\\site-packages (from nbconvert>=5->notebook>=4.4.1->widgetsnbextension~=3.6.0->ipywidgets>=7.5.0->bqplot==0.12.30) (0.1.2)\n",
      "Requirement already satisfied: testpath in c:\\users\\nimis\\.conda\\envs\\dataviz\\lib\\site-packages (from nbconvert>=5->notebook>=4.4.1->widgetsnbextension~=3.6.0->ipywidgets>=7.5.0->bqplot==0.12.30) (0.6.0)\n",
      "Requirement already satisfied: pandocfilters>=1.4.1 in c:\\users\\nimis\\.conda\\envs\\dataviz\\lib\\site-packages (from nbconvert>=5->notebook>=4.4.1->widgetsnbextension~=3.6.0->ipywidgets>=7.5.0->bqplot==0.12.30) (1.5.0)\n",
      "Requirement already satisfied: mistune<2,>=0.8.1 in c:\\users\\nimis\\.conda\\envs\\dataviz\\lib\\site-packages (from nbconvert>=5->notebook>=4.4.1->widgetsnbextension~=3.6.0->ipywidgets>=7.5.0->bqplot==0.12.30) (0.8.4)\n",
      "Requirement already satisfied: MarkupSafe>=2.0 in c:\\users\\nimis\\.conda\\envs\\dataviz\\lib\\site-packages (from jinja2->notebook>=4.4.1->widgetsnbextension~=3.6.0->ipywidgets>=7.5.0->bqplot==0.12.30) (2.1.1)\n",
      "Requirement already satisfied: pywinpty>=1.1.0 in c:\\users\\nimis\\.conda\\envs\\dataviz\\lib\\site-packages (from terminado>=0.8.3->notebook>=4.4.1->widgetsnbextension~=3.6.0->ipywidgets>=7.5.0->bqplot==0.12.30) (2.0.5)\n",
      "Requirement already satisfied: argon2-cffi-bindings in c:\\users\\nimis\\.conda\\envs\\dataviz\\lib\\site-packages (from argon2-cffi->notebook>=4.4.1->widgetsnbextension~=3.6.0->ipywidgets>=7.5.0->bqplot==0.12.30) (21.2.0)\n",
      "Requirement already satisfied: cffi>=1.0.1 in c:\\users\\nimis\\.conda\\envs\\dataviz\\lib\\site-packages (from argon2-cffi-bindings->argon2-cffi->notebook>=4.4.1->widgetsnbextension~=3.6.0->ipywidgets>=7.5.0->bqplot==0.12.30) (1.15.0)\n",
      "Requirement already satisfied: soupsieve>1.2 in c:\\users\\nimis\\.conda\\envs\\dataviz\\lib\\site-packages (from beautifulsoup4->nbconvert>=5->notebook>=4.4.1->widgetsnbextension~=3.6.0->ipywidgets>=7.5.0->bqplot==0.12.30) (2.3.1)\n",
      "Requirement already satisfied: packaging in c:\\users\\nimis\\.conda\\envs\\dataviz\\lib\\site-packages (from bleach->nbconvert>=5->notebook>=4.4.1->widgetsnbextension~=3.6.0->ipywidgets>=7.5.0->bqplot==0.12.30) (21.3)\n",
      "Requirement already satisfied: webencodings in c:\\users\\nimis\\.conda\\envs\\dataviz\\lib\\site-packages (from bleach->nbconvert>=5->notebook>=4.4.1->widgetsnbextension~=3.6.0->ipywidgets>=7.5.0->bqplot==0.12.30) (0.5.1)\n",
      "Requirement already satisfied: pycparser in c:\\users\\nimis\\.conda\\envs\\dataviz\\lib\\site-packages (from cffi>=1.0.1->argon2-cffi-bindings->argon2-cffi->notebook>=4.4.1->widgetsnbextension~=3.6.0->ipywidgets>=7.5.0->bqplot==0.12.30) (2.21)\n",
      "Requirement already satisfied: pyparsing!=3.0.5,>=2.0.2 in c:\\users\\nimis\\.conda\\envs\\dataviz\\lib\\site-packages (from packaging->bleach->nbconvert>=5->notebook>=4.4.1->widgetsnbextension~=3.6.0->ipywidgets>=7.5.0->bqplot==0.12.30) (3.0.7)\n",
      "Note: you may need to restart the kernel to use updated packages.\n"
     ]
    }
   ],
   "source": [
    "pip install bqplot==0.12.30"
   ]
  },
  {
   "cell_type": "code",
   "execution_count": 3,
   "id": "61a49967",
   "metadata": {},
   "outputs": [],
   "source": [
    "#Importing the dataset\n",
    "df=pd.read_csv('https://sds-platform-private.s3-us-east-2.amazonaws.com/uploads/P1-UK-Bank-Customers.csv')"
   ]
  },
  {
   "cell_type": "code",
   "execution_count": 4,
   "id": "f83863db",
   "metadata": {},
   "outputs": [
    {
     "data": {
      "text/plain": [
       "'0.12.30'"
      ]
     },
     "execution_count": 4,
     "metadata": {},
     "output_type": "execute_result"
    }
   ],
   "source": [
    "bqplot.__version__"
   ]
  },
  {
   "cell_type": "code",
   "execution_count": 5,
   "id": "81dfc87d",
   "metadata": {},
   "outputs": [
    {
     "data": {
      "text/html": [
       "<div>\n",
       "<style scoped>\n",
       "    .dataframe tbody tr th:only-of-type {\n",
       "        vertical-align: middle;\n",
       "    }\n",
       "\n",
       "    .dataframe tbody tr th {\n",
       "        vertical-align: top;\n",
       "    }\n",
       "\n",
       "    .dataframe thead th {\n",
       "        text-align: right;\n",
       "    }\n",
       "</style>\n",
       "<table border=\"1\" class=\"dataframe\">\n",
       "  <thead>\n",
       "    <tr style=\"text-align: right;\">\n",
       "      <th></th>\n",
       "      <th>Customer ID</th>\n",
       "      <th>Name</th>\n",
       "      <th>Surname</th>\n",
       "      <th>Gender</th>\n",
       "      <th>Age</th>\n",
       "      <th>Region</th>\n",
       "      <th>Job Classification</th>\n",
       "      <th>Date Joined</th>\n",
       "      <th>Balance</th>\n",
       "    </tr>\n",
       "  </thead>\n",
       "  <tbody>\n",
       "    <tr>\n",
       "      <th>0</th>\n",
       "      <td>100000001</td>\n",
       "      <td>Simon</td>\n",
       "      <td>Walsh</td>\n",
       "      <td>Male</td>\n",
       "      <td>21</td>\n",
       "      <td>England</td>\n",
       "      <td>White Collar</td>\n",
       "      <td>05.Jan.15</td>\n",
       "      <td>113810.15</td>\n",
       "    </tr>\n",
       "    <tr>\n",
       "      <th>1</th>\n",
       "      <td>400000002</td>\n",
       "      <td>Jasmine</td>\n",
       "      <td>Miller</td>\n",
       "      <td>Female</td>\n",
       "      <td>34</td>\n",
       "      <td>Northern Ireland</td>\n",
       "      <td>Blue Collar</td>\n",
       "      <td>06.Jan.15</td>\n",
       "      <td>36919.73</td>\n",
       "    </tr>\n",
       "    <tr>\n",
       "      <th>2</th>\n",
       "      <td>100000003</td>\n",
       "      <td>Liam</td>\n",
       "      <td>Brown</td>\n",
       "      <td>Male</td>\n",
       "      <td>46</td>\n",
       "      <td>England</td>\n",
       "      <td>White Collar</td>\n",
       "      <td>07.Jan.15</td>\n",
       "      <td>101536.83</td>\n",
       "    </tr>\n",
       "    <tr>\n",
       "      <th>3</th>\n",
       "      <td>300000004</td>\n",
       "      <td>Trevor</td>\n",
       "      <td>Parr</td>\n",
       "      <td>Male</td>\n",
       "      <td>32</td>\n",
       "      <td>Wales</td>\n",
       "      <td>White Collar</td>\n",
       "      <td>08.Jan.15</td>\n",
       "      <td>1421.52</td>\n",
       "    </tr>\n",
       "    <tr>\n",
       "      <th>4</th>\n",
       "      <td>100000005</td>\n",
       "      <td>Deirdre</td>\n",
       "      <td>Pullman</td>\n",
       "      <td>Female</td>\n",
       "      <td>38</td>\n",
       "      <td>England</td>\n",
       "      <td>Blue Collar</td>\n",
       "      <td>09.Jan.15</td>\n",
       "      <td>35639.79</td>\n",
       "    </tr>\n",
       "    <tr>\n",
       "      <th>...</th>\n",
       "      <td>...</td>\n",
       "      <td>...</td>\n",
       "      <td>...</td>\n",
       "      <td>...</td>\n",
       "      <td>...</td>\n",
       "      <td>...</td>\n",
       "      <td>...</td>\n",
       "      <td>...</td>\n",
       "      <td>...</td>\n",
       "    </tr>\n",
       "    <tr>\n",
       "      <th>4009</th>\n",
       "      <td>200004010</td>\n",
       "      <td>Sam</td>\n",
       "      <td>Lewis</td>\n",
       "      <td>Male</td>\n",
       "      <td>64</td>\n",
       "      <td>Scotland</td>\n",
       "      <td>Other</td>\n",
       "      <td>30.Dec.15</td>\n",
       "      <td>19711.66</td>\n",
       "    </tr>\n",
       "    <tr>\n",
       "      <th>4010</th>\n",
       "      <td>200004011</td>\n",
       "      <td>Keith</td>\n",
       "      <td>Hughes</td>\n",
       "      <td>Male</td>\n",
       "      <td>52</td>\n",
       "      <td>Scotland</td>\n",
       "      <td>Blue Collar</td>\n",
       "      <td>30.Dec.15</td>\n",
       "      <td>56069.72</td>\n",
       "    </tr>\n",
       "    <tr>\n",
       "      <th>4011</th>\n",
       "      <td>200004012</td>\n",
       "      <td>Hannah</td>\n",
       "      <td>Springer</td>\n",
       "      <td>Female</td>\n",
       "      <td>50</td>\n",
       "      <td>Scotland</td>\n",
       "      <td>Other</td>\n",
       "      <td>30.Dec.15</td>\n",
       "      <td>59477.82</td>\n",
       "    </tr>\n",
       "    <tr>\n",
       "      <th>4012</th>\n",
       "      <td>200004013</td>\n",
       "      <td>Christian</td>\n",
       "      <td>Reid</td>\n",
       "      <td>Male</td>\n",
       "      <td>51</td>\n",
       "      <td>Scotland</td>\n",
       "      <td>Blue Collar</td>\n",
       "      <td>30.Dec.15</td>\n",
       "      <td>239.45</td>\n",
       "    </tr>\n",
       "    <tr>\n",
       "      <th>4013</th>\n",
       "      <td>300004014</td>\n",
       "      <td>Stephen</td>\n",
       "      <td>May</td>\n",
       "      <td>Male</td>\n",
       "      <td>33</td>\n",
       "      <td>Wales</td>\n",
       "      <td>Blue Collar</td>\n",
       "      <td>30.Dec.15</td>\n",
       "      <td>30293.19</td>\n",
       "    </tr>\n",
       "  </tbody>\n",
       "</table>\n",
       "<p>4014 rows × 9 columns</p>\n",
       "</div>"
      ],
      "text/plain": [
       "      Customer ID       Name   Surname  Gender  Age            Region  \\\n",
       "0       100000001      Simon     Walsh    Male   21           England   \n",
       "1       400000002    Jasmine    Miller  Female   34  Northern Ireland   \n",
       "2       100000003       Liam     Brown    Male   46           England   \n",
       "3       300000004     Trevor      Parr    Male   32             Wales   \n",
       "4       100000005    Deirdre   Pullman  Female   38           England   \n",
       "...           ...        ...       ...     ...  ...               ...   \n",
       "4009    200004010        Sam     Lewis    Male   64          Scotland   \n",
       "4010    200004011      Keith    Hughes    Male   52          Scotland   \n",
       "4011    200004012     Hannah  Springer  Female   50          Scotland   \n",
       "4012    200004013  Christian      Reid    Male   51          Scotland   \n",
       "4013    300004014    Stephen       May    Male   33             Wales   \n",
       "\n",
       "     Job Classification Date Joined    Balance  \n",
       "0          White Collar   05.Jan.15  113810.15  \n",
       "1           Blue Collar   06.Jan.15   36919.73  \n",
       "2          White Collar   07.Jan.15  101536.83  \n",
       "3          White Collar   08.Jan.15    1421.52  \n",
       "4           Blue Collar   09.Jan.15   35639.79  \n",
       "...                 ...         ...        ...  \n",
       "4009              Other   30.Dec.15   19711.66  \n",
       "4010        Blue Collar   30.Dec.15   56069.72  \n",
       "4011              Other   30.Dec.15   59477.82  \n",
       "4012        Blue Collar   30.Dec.15     239.45  \n",
       "4013        Blue Collar   30.Dec.15   30293.19  \n",
       "\n",
       "[4014 rows x 9 columns]"
      ]
     },
     "execution_count": 5,
     "metadata": {},
     "output_type": "execute_result"
    }
   ],
   "source": [
    "# Seeing our dataset\n",
    "df"
   ]
  },
  {
   "cell_type": "code",
   "execution_count": 6,
   "id": "f7969424",
   "metadata": {},
   "outputs": [
    {
     "data": {
      "text/html": [
       "<div>\n",
       "<style scoped>\n",
       "    .dataframe tbody tr th:only-of-type {\n",
       "        vertical-align: middle;\n",
       "    }\n",
       "\n",
       "    .dataframe tbody tr th {\n",
       "        vertical-align: top;\n",
       "    }\n",
       "\n",
       "    .dataframe thead th {\n",
       "        text-align: right;\n",
       "    }\n",
       "</style>\n",
       "<table border=\"1\" class=\"dataframe\">\n",
       "  <thead>\n",
       "    <tr style=\"text-align: right;\">\n",
       "      <th></th>\n",
       "      <th>Customer ID</th>\n",
       "      <th>Name</th>\n",
       "      <th>Surname</th>\n",
       "      <th>Gender</th>\n",
       "      <th>Age</th>\n",
       "      <th>Region</th>\n",
       "      <th>Job Classification</th>\n",
       "      <th>Date Joined</th>\n",
       "      <th>Balance</th>\n",
       "    </tr>\n",
       "  </thead>\n",
       "  <tbody>\n",
       "    <tr>\n",
       "      <th>0</th>\n",
       "      <td>100000001</td>\n",
       "      <td>Simon</td>\n",
       "      <td>Walsh</td>\n",
       "      <td>Male</td>\n",
       "      <td>21</td>\n",
       "      <td>England</td>\n",
       "      <td>White Collar</td>\n",
       "      <td>05.Jan.15</td>\n",
       "      <td>113810.15</td>\n",
       "    </tr>\n",
       "    <tr>\n",
       "      <th>1</th>\n",
       "      <td>400000002</td>\n",
       "      <td>Jasmine</td>\n",
       "      <td>Miller</td>\n",
       "      <td>Female</td>\n",
       "      <td>34</td>\n",
       "      <td>Northern Ireland</td>\n",
       "      <td>Blue Collar</td>\n",
       "      <td>06.Jan.15</td>\n",
       "      <td>36919.73</td>\n",
       "    </tr>\n",
       "    <tr>\n",
       "      <th>2</th>\n",
       "      <td>100000003</td>\n",
       "      <td>Liam</td>\n",
       "      <td>Brown</td>\n",
       "      <td>Male</td>\n",
       "      <td>46</td>\n",
       "      <td>England</td>\n",
       "      <td>White Collar</td>\n",
       "      <td>07.Jan.15</td>\n",
       "      <td>101536.83</td>\n",
       "    </tr>\n",
       "    <tr>\n",
       "      <th>3</th>\n",
       "      <td>300000004</td>\n",
       "      <td>Trevor</td>\n",
       "      <td>Parr</td>\n",
       "      <td>Male</td>\n",
       "      <td>32</td>\n",
       "      <td>Wales</td>\n",
       "      <td>White Collar</td>\n",
       "      <td>08.Jan.15</td>\n",
       "      <td>1421.52</td>\n",
       "    </tr>\n",
       "    <tr>\n",
       "      <th>4</th>\n",
       "      <td>100000005</td>\n",
       "      <td>Deirdre</td>\n",
       "      <td>Pullman</td>\n",
       "      <td>Female</td>\n",
       "      <td>38</td>\n",
       "      <td>England</td>\n",
       "      <td>Blue Collar</td>\n",
       "      <td>09.Jan.15</td>\n",
       "      <td>35639.79</td>\n",
       "    </tr>\n",
       "  </tbody>\n",
       "</table>\n",
       "</div>"
      ],
      "text/plain": [
       "   Customer ID     Name  Surname  Gender  Age            Region  \\\n",
       "0    100000001    Simon    Walsh    Male   21           England   \n",
       "1    400000002  Jasmine   Miller  Female   34  Northern Ireland   \n",
       "2    100000003     Liam    Brown    Male   46           England   \n",
       "3    300000004   Trevor     Parr    Male   32             Wales   \n",
       "4    100000005  Deirdre  Pullman  Female   38           England   \n",
       "\n",
       "  Job Classification Date Joined    Balance  \n",
       "0       White Collar   05.Jan.15  113810.15  \n",
       "1        Blue Collar   06.Jan.15   36919.73  \n",
       "2       White Collar   07.Jan.15  101536.83  \n",
       "3       White Collar   08.Jan.15    1421.52  \n",
       "4        Blue Collar   09.Jan.15   35639.79  "
      ]
     },
     "execution_count": 6,
     "metadata": {},
     "output_type": "execute_result"
    }
   ],
   "source": [
    "df.head()"
   ]
  },
  {
   "cell_type": "code",
   "execution_count": 7,
   "id": "3667b4db",
   "metadata": {},
   "outputs": [
    {
     "name": "stdout",
     "output_type": "stream",
     "text": [
      "<class 'pandas.core.frame.DataFrame'>\n",
      "RangeIndex: 4014 entries, 0 to 4013\n",
      "Data columns (total 9 columns):\n",
      " #   Column              Non-Null Count  Dtype  \n",
      "---  ------              --------------  -----  \n",
      " 0   Customer ID         4014 non-null   int64  \n",
      " 1   Name                4014 non-null   object \n",
      " 2   Surname             4014 non-null   object \n",
      " 3   Gender              4014 non-null   object \n",
      " 4   Age                 4014 non-null   int64  \n",
      " 5   Region              4014 non-null   object \n",
      " 6   Job Classification  4014 non-null   object \n",
      " 7   Date Joined         4014 non-null   object \n",
      " 8   Balance             4014 non-null   float64\n",
      "dtypes: float64(1), int64(2), object(6)\n",
      "memory usage: 282.4+ KB\n"
     ]
    }
   ],
   "source": [
    "# To check information of dataset\n",
    "df.info()"
   ]
  },
  {
   "cell_type": "code",
   "execution_count": 8,
   "id": "62954778",
   "metadata": {},
   "outputs": [
    {
     "data": {
      "text/html": [
       "<div>\n",
       "<style scoped>\n",
       "    .dataframe tbody tr th:only-of-type {\n",
       "        vertical-align: middle;\n",
       "    }\n",
       "\n",
       "    .dataframe tbody tr th {\n",
       "        vertical-align: top;\n",
       "    }\n",
       "\n",
       "    .dataframe thead th {\n",
       "        text-align: right;\n",
       "    }\n",
       "</style>\n",
       "<table border=\"1\" class=\"dataframe\">\n",
       "  <thead>\n",
       "    <tr style=\"text-align: right;\">\n",
       "      <th></th>\n",
       "      <th>Customer ID</th>\n",
       "      <th>Age</th>\n",
       "      <th>Balance</th>\n",
       "    </tr>\n",
       "  </thead>\n",
       "  <tbody>\n",
       "    <tr>\n",
       "      <th>count</th>\n",
       "      <td>4.014000e+03</td>\n",
       "      <td>4014.000000</td>\n",
       "      <td>4014.000000</td>\n",
       "    </tr>\n",
       "    <tr>\n",
       "      <th>mean</th>\n",
       "      <td>1.696831e+08</td>\n",
       "      <td>38.611111</td>\n",
       "      <td>39766.448274</td>\n",
       "    </tr>\n",
       "    <tr>\n",
       "      <th>std</th>\n",
       "      <td>8.865374e+07</td>\n",
       "      <td>9.819121</td>\n",
       "      <td>29859.489192</td>\n",
       "    </tr>\n",
       "    <tr>\n",
       "      <th>min</th>\n",
       "      <td>1.000000e+08</td>\n",
       "      <td>15.000000</td>\n",
       "      <td>11.520000</td>\n",
       "    </tr>\n",
       "    <tr>\n",
       "      <th>25%</th>\n",
       "      <td>1.000020e+08</td>\n",
       "      <td>31.000000</td>\n",
       "      <td>16115.367500</td>\n",
       "    </tr>\n",
       "    <tr>\n",
       "      <th>50%</th>\n",
       "      <td>1.000038e+08</td>\n",
       "      <td>37.000000</td>\n",
       "      <td>33567.330000</td>\n",
       "    </tr>\n",
       "    <tr>\n",
       "      <th>75%</th>\n",
       "      <td>2.000031e+08</td>\n",
       "      <td>45.000000</td>\n",
       "      <td>57533.930000</td>\n",
       "    </tr>\n",
       "    <tr>\n",
       "      <th>max</th>\n",
       "      <td>4.000038e+08</td>\n",
       "      <td>64.000000</td>\n",
       "      <td>183467.700000</td>\n",
       "    </tr>\n",
       "  </tbody>\n",
       "</table>\n",
       "</div>"
      ],
      "text/plain": [
       "        Customer ID          Age        Balance\n",
       "count  4.014000e+03  4014.000000    4014.000000\n",
       "mean   1.696831e+08    38.611111   39766.448274\n",
       "std    8.865374e+07     9.819121   29859.489192\n",
       "min    1.000000e+08    15.000000      11.520000\n",
       "25%    1.000020e+08    31.000000   16115.367500\n",
       "50%    1.000038e+08    37.000000   33567.330000\n",
       "75%    2.000031e+08    45.000000   57533.930000\n",
       "max    4.000038e+08    64.000000  183467.700000"
      ]
     },
     "execution_count": 8,
     "metadata": {},
     "output_type": "execute_result"
    }
   ],
   "source": [
    "# To see statistical summary of dataset\n",
    "df.describe()"
   ]
  },
  {
   "cell_type": "code",
   "execution_count": 9,
   "id": "026ea7fc",
   "metadata": {},
   "outputs": [
    {
     "data": {
      "text/html": [
       "<div>\n",
       "<style scoped>\n",
       "    .dataframe tbody tr th:only-of-type {\n",
       "        vertical-align: middle;\n",
       "    }\n",
       "\n",
       "    .dataframe tbody tr th {\n",
       "        vertical-align: top;\n",
       "    }\n",
       "\n",
       "    .dataframe thead th {\n",
       "        text-align: right;\n",
       "    }\n",
       "</style>\n",
       "<table border=\"1\" class=\"dataframe\">\n",
       "  <thead>\n",
       "    <tr style=\"text-align: right;\">\n",
       "      <th></th>\n",
       "      <th>Customer ID</th>\n",
       "      <th>Age</th>\n",
       "      <th>Balance</th>\n",
       "    </tr>\n",
       "  </thead>\n",
       "  <tbody>\n",
       "    <tr>\n",
       "      <th>Customer ID</th>\n",
       "      <td>1.000000</td>\n",
       "      <td>0.081691</td>\n",
       "      <td>0.021428</td>\n",
       "    </tr>\n",
       "    <tr>\n",
       "      <th>Age</th>\n",
       "      <td>0.081691</td>\n",
       "      <td>1.000000</td>\n",
       "      <td>0.009359</td>\n",
       "    </tr>\n",
       "    <tr>\n",
       "      <th>Balance</th>\n",
       "      <td>0.021428</td>\n",
       "      <td>0.009359</td>\n",
       "      <td>1.000000</td>\n",
       "    </tr>\n",
       "  </tbody>\n",
       "</table>\n",
       "</div>"
      ],
      "text/plain": [
       "             Customer ID       Age   Balance\n",
       "Customer ID     1.000000  0.081691  0.021428\n",
       "Age             0.081691  1.000000  0.009359\n",
       "Balance         0.021428  0.009359  1.000000"
      ]
     },
     "execution_count": 9,
     "metadata": {},
     "output_type": "execute_result"
    }
   ],
   "source": [
    "df.corr()  #to find out coorelations between variables"
   ]
  },
  {
   "cell_type": "code",
   "execution_count": 10,
   "id": "c26e6ba0",
   "metadata": {},
   "outputs": [
    {
     "data": {
      "text/plain": [
       "Customer ID           0\n",
       "Name                  0\n",
       "Surname               0\n",
       "Gender                0\n",
       "Age                   0\n",
       "Region                0\n",
       "Job Classification    0\n",
       "Date Joined           0\n",
       "Balance               0\n",
       "dtype: int64"
      ]
     },
     "execution_count": 10,
     "metadata": {},
     "output_type": "execute_result"
    }
   ],
   "source": [
    "df.isnull().sum()   #Finding out missing values in each column"
   ]
  },
  {
   "cell_type": "code",
   "execution_count": 11,
   "id": "783ce629",
   "metadata": {},
   "outputs": [
    {
     "data": {
      "text/plain": [
       "array([21, 34, 46, 32, 38, 30, 48, 33, 42, 40, 39, 24, 36, 31, 37, 58, 41,\n",
       "       52, 55, 50, 25, 26, 35, 59, 27, 49, 22, 53, 47, 19, 29, 44, 43, 61,\n",
       "       45, 51, 23, 20, 28, 56, 57, 54, 63, 18, 17, 62, 60, 64, 15],\n",
       "      dtype=int64)"
      ]
     },
     "execution_count": 11,
     "metadata": {},
     "output_type": "execute_result"
    }
   ],
   "source": [
    "df['Age'].unique()"
   ]
  },
  {
   "cell_type": "code",
   "execution_count": 12,
   "id": "1c99eb1e",
   "metadata": {},
   "outputs": [
    {
     "data": {
      "text/plain": [
       "array(['Male', 'Female'], dtype=object)"
      ]
     },
     "execution_count": 12,
     "metadata": {},
     "output_type": "execute_result"
    }
   ],
   "source": [
    "df['Gender'].unique()"
   ]
  },
  {
   "cell_type": "code",
   "execution_count": 13,
   "id": "fea2d8e0",
   "metadata": {},
   "outputs": [
    {
     "data": {
      "text/plain": [
       "array(['England', 'Northern Ireland', 'Wales', 'Scotland'], dtype=object)"
      ]
     },
     "execution_count": 13,
     "metadata": {},
     "output_type": "execute_result"
    }
   ],
   "source": [
    "df['Region'].unique()"
   ]
  },
  {
   "cell_type": "code",
   "execution_count": 14,
   "id": "6fc7aca1",
   "metadata": {},
   "outputs": [
    {
     "data": {
      "text/plain": [
       "array(['White Collar', 'Blue Collar', 'Other'], dtype=object)"
      ]
     },
     "execution_count": 14,
     "metadata": {},
     "output_type": "execute_result"
    }
   ],
   "source": [
    "df['Job Classification'].unique()"
   ]
  },
  {
   "cell_type": "markdown",
   "id": "2e28d242",
   "metadata": {},
   "source": [
    "# Contextual Visual 1"
   ]
  },
  {
   "cell_type": "markdown",
   "id": "04750c4c",
   "metadata": {},
   "source": [
    "Sources -> The below contextual visual is drawn on the primary dataset that we have chosen for this project."
   ]
  },
  {
   "cell_type": "code",
   "execution_count": 15,
   "id": "b222355f",
   "metadata": {
    "scrolled": true
   },
   "outputs": [
    {
     "data": {
      "image/png": "[encoded data removed]",
      "text/plain": [
       "<Figure size 720x720 with 1 Axes>"
      ]
     },
     "metadata": {
      "needs_background": "light"
     },
     "output_type": "display_data"
    }
   ],
   "source": [
    "fig,ax=plt.subplots(figsize=(10,10))\n",
    "plt.bar(df['Region'].unique(),df['Region'].value_counts())\n",
    "\n",
    "\n",
    "plt.xlabel(\"All the regions of bank\")\n",
    "plt.ylabel(\"No. of customers\")\n",
    "plt.title(\"Count of customers for every region\")\n",
    "plt.show()"
   ]
  },
  {
   "cell_type": "markdown",
   "id": "991dc494",
   "metadata": {},
   "source": [
    "# Contextual Visual 2"
   ]
  },
  {
   "cell_type": "markdown",
   "id": "b0ab67c0",
   "metadata": {},
   "source": [
    "Sources -> The below contextual visual is drawn on the primary dataset that we have chosen for this project."
   ]
  },
  {
   "cell_type": "code",
   "execution_count": 16,
   "id": "c236ba81",
   "metadata": {},
   "outputs": [
    {
     "data": {
      "image/png": "[encoded data removed]",
      "text/plain": [
       "<Figure size 720x720 with 1 Axes>"
      ]
     },
     "metadata": {
      "needs_background": "light"
     },
     "output_type": "display_data"
    }
   ],
   "source": [
    "fig,ax=plt.subplots(figsize=(10,10))\n",
    "plt.bar(df['Job Classification'].unique(),df['Job Classification'].value_counts())\n",
    "\n",
    "\n",
    "plt.xlabel(\"Differnt job categories of people\")\n",
    "plt.ylabel(\"No. of customers falling in each job category\")\n",
    "plt.title(\"Count of customers in every job category\")\n",
    "plt.show()"
   ]
  },
  {
   "cell_type": "markdown",
   "id": "9cab0430",
   "metadata": {},
   "source": [
    "# Contextual Visual 3"
   ]
  },
  {
   "cell_type": "markdown",
   "id": "c4e0ecee",
   "metadata": {},
   "source": [
    "Sources -> The below contextual visual is drawn on the primary dataset that we have chosen for this project."
   ]
  },
  {
   "cell_type": "code",
   "execution_count": 17,
   "id": "a6addafe",
   "metadata": {},
   "outputs": [
    {
     "data": {
      "image/png": "[encoded data removed]",
      "text/plain": [
       "<Figure size 720x720 with 1 Axes>"
      ]
     },
     "metadata": {
      "needs_background": "light"
     },
     "output_type": "display_data"
    }
   ],
   "source": [
    "fig,ax=plt.subplots(figsize=(10,10))\n",
    "plt.bar(df['Gender'].unique(),df['Gender'].value_counts())\n",
    "\n",
    "\n",
    "plt.xlabel(\"Differnt Genders\")\n",
    "plt.ylabel(\"No. of customers falling in each Gender\")\n",
    "plt.title(\"Count of customers of every Gender\")\n",
    "plt.show()"
   ]
  },
  {
   "cell_type": "markdown",
   "id": "7e0f232e",
   "metadata": {},
   "source": [
    "# Central Interactive Visualization 1"
   ]
  },
  {
   "cell_type": "markdown",
   "id": "e25c85a0",
   "metadata": {},
   "source": [
    "Drawing heatmap"
   ]
  },
  {
   "cell_type": "code",
   "execution_count": 18,
   "id": "cceccba0",
   "metadata": {},
   "outputs": [],
   "source": [
    "piv_table = pd.pivot_table(df, values=['Balance'],\n",
    "                          index = ['Region'],\n",
    "                          columns = ['Job Classification'],\n",
    "                          aggfunc = np.mean, fill_value=0)"
   ]
  },
  {
   "cell_type": "code",
   "execution_count": 19,
   "id": "473cbb24",
   "metadata": {},
   "outputs": [
    {
     "data": {
      "text/html": [
       "<div>\n",
       "<style scoped>\n",
       "    .dataframe tbody tr th:only-of-type {\n",
       "        vertical-align: middle;\n",
       "    }\n",
       "\n",
       "    .dataframe tbody tr th {\n",
       "        vertical-align: top;\n",
       "    }\n",
       "\n",
       "    .dataframe thead tr th {\n",
       "        text-align: left;\n",
       "    }\n",
       "\n",
       "    .dataframe thead tr:last-of-type th {\n",
       "        text-align: right;\n",
       "    }\n",
       "</style>\n",
       "<table border=\"1\" class=\"dataframe\">\n",
       "  <thead>\n",
       "    <tr>\n",
       "      <th></th>\n",
       "      <th colspan=\"3\" halign=\"left\">Balance</th>\n",
       "    </tr>\n",
       "    <tr>\n",
       "      <th>Job Classification</th>\n",
       "      <th>Blue Collar</th>\n",
       "      <th>Other</th>\n",
       "      <th>White Collar</th>\n",
       "    </tr>\n",
       "    <tr>\n",
       "      <th>Region</th>\n",
       "      <th></th>\n",
       "      <th></th>\n",
       "      <th></th>\n",
       "    </tr>\n",
       "  </thead>\n",
       "  <tbody>\n",
       "    <tr>\n",
       "      <th>England</th>\n",
       "      <td>38567.841570</td>\n",
       "      <td>40740.269522</td>\n",
       "      <td>39156.305710</td>\n",
       "    </tr>\n",
       "    <tr>\n",
       "      <th>Northern Ireland</th>\n",
       "      <td>38672.092439</td>\n",
       "      <td>38785.713238</td>\n",
       "      <td>41192.472462</td>\n",
       "    </tr>\n",
       "    <tr>\n",
       "      <th>Scotland</th>\n",
       "      <td>39288.961029</td>\n",
       "      <td>39602.168306</td>\n",
       "      <td>40415.005238</td>\n",
       "    </tr>\n",
       "    <tr>\n",
       "      <th>Wales</th>\n",
       "      <td>42566.395083</td>\n",
       "      <td>39104.892947</td>\n",
       "      <td>43343.924656</td>\n",
       "    </tr>\n",
       "  </tbody>\n",
       "</table>\n",
       "</div>"
      ],
      "text/plain": [
       "                         Balance                            \n",
       "Job Classification   Blue Collar         Other  White Collar\n",
       "Region                                                      \n",
       "England             38567.841570  40740.269522  39156.305710\n",
       "Northern Ireland    38672.092439  38785.713238  41192.472462\n",
       "Scotland            39288.961029  39602.168306  40415.005238\n",
       "Wales               42566.395083  39104.892947  43343.924656"
      ]
     },
     "execution_count": 19,
     "metadata": {},
     "output_type": "execute_result"
    }
   ],
   "source": [
    "piv_table"
   ]
  },
  {
   "cell_type": "code",
   "execution_count": 20,
   "id": "b531a097",
   "metadata": {},
   "outputs": [
    {
     "data": {
      "text/plain": [
       "(4, 3)"
      ]
     },
     "execution_count": 20,
     "metadata": {},
     "output_type": "execute_result"
    }
   ],
   "source": [
    "piv_table.shape"
   ]
  },
  {
   "cell_type": "code",
   "execution_count": 21,
   "id": "2eef7f39",
   "metadata": {},
   "outputs": [],
   "source": [
    "# We are defining a label by using the ipywidgets\n",
    "\n",
    "myLabel = ipywidgets.Label()"
   ]
  },
  {
   "cell_type": "code",
   "execution_count": 22,
   "id": "311eb4b9",
   "metadata": {},
   "outputs": [],
   "source": [
    "mylist=[]"
   ]
  },
  {
   "cell_type": "code",
   "execution_count": 23,
   "id": "3babdab2",
   "metadata": {},
   "outputs": [
    {
     "data": {
      "application/vnd.jupyter.widget-view+json": {
       "model_id": "848f7505f42f4778a33ec5e96d47b82e",
       "version_major": 2,
       "version_minor": 0
      },
      "text/plain": [
       "VBox(children=(Label(value=''), Figure(axes=[ColorAxis(orientation='vertical', scale=ColorScale(scheme='Defaul…"
      ]
     },
     "metadata": {},
     "output_type": "display_data"
    }
   ],
   "source": [
    "# I am defining out on_selection function to ensure correct interactivity and desired output\n",
    "\n",
    "def on_selected(change):\n",
    "    if len(change['owner'].selected)==1:\n",
    "        i,j = change['owner'].selected[0]\n",
    "        v = piv_table.values[i,j]\n",
    "        myLabel.value = 'Mean Data Value = ' + str(v)\n",
    "        \n",
    "\n",
    "# I am hard codding the parameter for our visualization\n",
    "        \n",
    "col_sc = bqplot.ColorScale(scheme='Default')\n",
    "x_sc = bqplot.OrdinalScale()\n",
    "y_sc = bqplot.OrdinalScale()\n",
    "\n",
    "\n",
    "ax_col = bqplot.ColorAxis(scale=col_sc, orientation='vertical', side='right')\n",
    "ax_x = bqplot.Axis(scale=x_sc)\n",
    "ax_y = bqplot.Axis(scale=y_sc, orientation='vertical')\n",
    "\n",
    "my_list = piv_table.columns.values.tolist()\n",
    "\n",
    "my_list = piv_table.columns.levels[1].to_list()\n",
    "\n",
    "\n",
    "# I am using the GridHeatMap visualization from bqplot and adding a lot of customizable parameters\n",
    "\n",
    "heat_map = bqplot.GridHeatMap(color=piv_table.values,\n",
    "                             row=piv_table.index,\n",
    "                             column= my_list, \n",
    "                             scales={'color':col_sc,'row':y_sc, 'column':x_sc},\n",
    "                             interactions= {'click':'select'},\n",
    "                                anchor_style={'fill':'white'},\n",
    "                             selected_style= {'opacity': 1.0},\n",
    "                             unselected_style={'opacity': 0.8})\n",
    "\n",
    "heat_map.observe(on_selected,'selected')\n",
    "\n",
    "fig = bqplot.Figure(marks=[heat_map], axes=[ax_col, ax_x, ax_y])\n",
    "\n",
    "myDashboard = ipywidgets.VBox([myLabel, fig])\n",
    "myDashboard"
   ]
  },
  {
   "cell_type": "markdown",
   "id": "bfe76516",
   "metadata": {},
   "source": [
    "Drawing barplot"
   ]
  },
  {
   "cell_type": "code",
   "execution_count": 24,
   "id": "19f97ed7",
   "metadata": {},
   "outputs": [],
   "source": [
    "new_df = df.groupby('Age', as_index=False)['Balance'].sum()"
   ]
  },
  {
   "cell_type": "code",
   "execution_count": 25,
   "id": "bae87fa1",
   "metadata": {},
   "outputs": [
    {
     "data": {
      "text/html": [
       "<div>\n",
       "<style scoped>\n",
       "    .dataframe tbody tr th:only-of-type {\n",
       "        vertical-align: middle;\n",
       "    }\n",
       "\n",
       "    .dataframe tbody tr th {\n",
       "        vertical-align: top;\n",
       "    }\n",
       "\n",
       "    .dataframe thead th {\n",
       "        text-align: right;\n",
       "    }\n",
       "</style>\n",
       "<table border=\"1\" class=\"dataframe\">\n",
       "  <thead>\n",
       "    <tr style=\"text-align: right;\">\n",
       "      <th></th>\n",
       "      <th>Age</th>\n",
       "      <th>Balance</th>\n",
       "    </tr>\n",
       "  </thead>\n",
       "  <tbody>\n",
       "    <tr>\n",
       "      <th>0</th>\n",
       "      <td>15</td>\n",
       "      <td>12548.21</td>\n",
       "    </tr>\n",
       "    <tr>\n",
       "      <th>1</th>\n",
       "      <td>17</td>\n",
       "      <td>181869.05</td>\n",
       "    </tr>\n",
       "    <tr>\n",
       "      <th>2</th>\n",
       "      <td>18</td>\n",
       "      <td>1008167.36</td>\n",
       "    </tr>\n",
       "    <tr>\n",
       "      <th>3</th>\n",
       "      <td>19</td>\n",
       "      <td>739457.83</td>\n",
       "    </tr>\n",
       "    <tr>\n",
       "      <th>4</th>\n",
       "      <td>20</td>\n",
       "      <td>659878.71</td>\n",
       "    </tr>\n",
       "    <tr>\n",
       "      <th>5</th>\n",
       "      <td>21</td>\n",
       "      <td>1067861.63</td>\n",
       "    </tr>\n",
       "    <tr>\n",
       "      <th>6</th>\n",
       "      <td>22</td>\n",
       "      <td>1244574.73</td>\n",
       "    </tr>\n",
       "    <tr>\n",
       "      <th>7</th>\n",
       "      <td>23</td>\n",
       "      <td>1831482.72</td>\n",
       "    </tr>\n",
       "    <tr>\n",
       "      <th>8</th>\n",
       "      <td>24</td>\n",
       "      <td>2337941.85</td>\n",
       "    </tr>\n",
       "    <tr>\n",
       "      <th>9</th>\n",
       "      <td>25</td>\n",
       "      <td>2583741.77</td>\n",
       "    </tr>\n",
       "    <tr>\n",
       "      <th>10</th>\n",
       "      <td>26</td>\n",
       "      <td>2915784.02</td>\n",
       "    </tr>\n",
       "    <tr>\n",
       "      <th>11</th>\n",
       "      <td>27</td>\n",
       "      <td>3377257.28</td>\n",
       "    </tr>\n",
       "    <tr>\n",
       "      <th>12</th>\n",
       "      <td>28</td>\n",
       "      <td>4699378.55</td>\n",
       "    </tr>\n",
       "    <tr>\n",
       "      <th>13</th>\n",
       "      <td>29</td>\n",
       "      <td>5198090.16</td>\n",
       "    </tr>\n",
       "    <tr>\n",
       "      <th>14</th>\n",
       "      <td>30</td>\n",
       "      <td>5021562.07</td>\n",
       "    </tr>\n",
       "    <tr>\n",
       "      <th>15</th>\n",
       "      <td>31</td>\n",
       "      <td>6707124.47</td>\n",
       "    </tr>\n",
       "    <tr>\n",
       "      <th>16</th>\n",
       "      <td>32</td>\n",
       "      <td>6238690.05</td>\n",
       "    </tr>\n",
       "    <tr>\n",
       "      <th>17</th>\n",
       "      <td>33</td>\n",
       "      <td>6641986.12</td>\n",
       "    </tr>\n",
       "    <tr>\n",
       "      <th>18</th>\n",
       "      <td>34</td>\n",
       "      <td>7988733.79</td>\n",
       "    </tr>\n",
       "    <tr>\n",
       "      <th>19</th>\n",
       "      <td>35</td>\n",
       "      <td>6377521.70</td>\n",
       "    </tr>\n",
       "    <tr>\n",
       "      <th>20</th>\n",
       "      <td>36</td>\n",
       "      <td>7368284.96</td>\n",
       "    </tr>\n",
       "    <tr>\n",
       "      <th>21</th>\n",
       "      <td>37</td>\n",
       "      <td>6510794.51</td>\n",
       "    </tr>\n",
       "    <tr>\n",
       "      <th>22</th>\n",
       "      <td>38</td>\n",
       "      <td>6348724.62</td>\n",
       "    </tr>\n",
       "    <tr>\n",
       "      <th>23</th>\n",
       "      <td>39</td>\n",
       "      <td>5487046.39</td>\n",
       "    </tr>\n",
       "    <tr>\n",
       "      <th>24</th>\n",
       "      <td>40</td>\n",
       "      <td>4796013.91</td>\n",
       "    </tr>\n",
       "    <tr>\n",
       "      <th>25</th>\n",
       "      <td>41</td>\n",
       "      <td>5192843.71</td>\n",
       "    </tr>\n",
       "    <tr>\n",
       "      <th>26</th>\n",
       "      <td>42</td>\n",
       "      <td>5149227.45</td>\n",
       "    </tr>\n",
       "    <tr>\n",
       "      <th>27</th>\n",
       "      <td>43</td>\n",
       "      <td>4651522.23</td>\n",
       "    </tr>\n",
       "    <tr>\n",
       "      <th>28</th>\n",
       "      <td>44</td>\n",
       "      <td>3979316.19</td>\n",
       "    </tr>\n",
       "    <tr>\n",
       "      <th>29</th>\n",
       "      <td>45</td>\n",
       "      <td>4587081.83</td>\n",
       "    </tr>\n",
       "    <tr>\n",
       "      <th>30</th>\n",
       "      <td>46</td>\n",
       "      <td>3924522.57</td>\n",
       "    </tr>\n",
       "    <tr>\n",
       "      <th>31</th>\n",
       "      <td>47</td>\n",
       "      <td>3531251.03</td>\n",
       "    </tr>\n",
       "    <tr>\n",
       "      <th>32</th>\n",
       "      <td>48</td>\n",
       "      <td>3039810.75</td>\n",
       "    </tr>\n",
       "    <tr>\n",
       "      <th>33</th>\n",
       "      <td>49</td>\n",
       "      <td>2894729.98</td>\n",
       "    </tr>\n",
       "    <tr>\n",
       "      <th>34</th>\n",
       "      <td>50</td>\n",
       "      <td>2572071.34</td>\n",
       "    </tr>\n",
       "    <tr>\n",
       "      <th>35</th>\n",
       "      <td>51</td>\n",
       "      <td>2731160.40</td>\n",
       "    </tr>\n",
       "    <tr>\n",
       "      <th>36</th>\n",
       "      <td>52</td>\n",
       "      <td>3267818.85</td>\n",
       "    </tr>\n",
       "    <tr>\n",
       "      <th>37</th>\n",
       "      <td>53</td>\n",
       "      <td>2685496.21</td>\n",
       "    </tr>\n",
       "    <tr>\n",
       "      <th>38</th>\n",
       "      <td>54</td>\n",
       "      <td>1884970.19</td>\n",
       "    </tr>\n",
       "    <tr>\n",
       "      <th>39</th>\n",
       "      <td>55</td>\n",
       "      <td>1808587.04</td>\n",
       "    </tr>\n",
       "    <tr>\n",
       "      <th>40</th>\n",
       "      <td>56</td>\n",
       "      <td>1513402.78</td>\n",
       "    </tr>\n",
       "    <tr>\n",
       "      <th>41</th>\n",
       "      <td>57</td>\n",
       "      <td>1737214.44</td>\n",
       "    </tr>\n",
       "    <tr>\n",
       "      <th>42</th>\n",
       "      <td>58</td>\n",
       "      <td>2053160.72</td>\n",
       "    </tr>\n",
       "    <tr>\n",
       "      <th>43</th>\n",
       "      <td>59</td>\n",
       "      <td>1211866.39</td>\n",
       "    </tr>\n",
       "    <tr>\n",
       "      <th>44</th>\n",
       "      <td>60</td>\n",
       "      <td>1270295.68</td>\n",
       "    </tr>\n",
       "    <tr>\n",
       "      <th>45</th>\n",
       "      <td>61</td>\n",
       "      <td>1084717.27</td>\n",
       "    </tr>\n",
       "    <tr>\n",
       "      <th>46</th>\n",
       "      <td>62</td>\n",
       "      <td>544348.70</td>\n",
       "    </tr>\n",
       "    <tr>\n",
       "      <th>47</th>\n",
       "      <td>63</td>\n",
       "      <td>338301.77</td>\n",
       "    </tr>\n",
       "    <tr>\n",
       "      <th>48</th>\n",
       "      <td>64</td>\n",
       "      <td>624289.39</td>\n",
       "    </tr>\n",
       "  </tbody>\n",
       "</table>\n",
       "</div>"
      ],
      "text/plain": [
       "    Age     Balance\n",
       "0    15    12548.21\n",
       "1    17   181869.05\n",
       "2    18  1008167.36\n",
       "3    19   739457.83\n",
       "4    20   659878.71\n",
       "5    21  1067861.63\n",
       "6    22  1244574.73\n",
       "7    23  1831482.72\n",
       "8    24  2337941.85\n",
       "9    25  2583741.77\n",
       "10   26  2915784.02\n",
       "11   27  3377257.28\n",
       "12   28  4699378.55\n",
       "13   29  5198090.16\n",
       "14   30  5021562.07\n",
       "15   31  6707124.47\n",
       "16   32  6238690.05\n",
       "17   33  6641986.12\n",
       "18   34  7988733.79\n",
       "19   35  6377521.70\n",
       "20   36  7368284.96\n",
       "21   37  6510794.51\n",
       "22   38  6348724.62\n",
       "23   39  5487046.39\n",
       "24   40  4796013.91\n",
       "25   41  5192843.71\n",
       "26   42  5149227.45\n",
       "27   43  4651522.23\n",
       "28   44  3979316.19\n",
       "29   45  4587081.83\n",
       "30   46  3924522.57\n",
       "31   47  3531251.03\n",
       "32   48  3039810.75\n",
       "33   49  2894729.98\n",
       "34   50  2572071.34\n",
       "35   51  2731160.40\n",
       "36   52  3267818.85\n",
       "37   53  2685496.21\n",
       "38   54  1884970.19\n",
       "39   55  1808587.04\n",
       "40   56  1513402.78\n",
       "41   57  1737214.44\n",
       "42   58  2053160.72\n",
       "43   59  1211866.39\n",
       "44   60  1270295.68\n",
       "45   61  1084717.27\n",
       "46   62   544348.70\n",
       "47   63   338301.77\n",
       "48   64   624289.39"
      ]
     },
     "execution_count": 25,
     "metadata": {},
     "output_type": "execute_result"
    }
   ],
   "source": [
    "new_df"
   ]
  },
  {
   "cell_type": "code",
   "execution_count": 26,
   "id": "8aa40b09",
   "metadata": {},
   "outputs": [
    {
     "data": {
      "text/plain": [
       "(12548.21, 7988733.79)"
      ]
     },
     "execution_count": 26,
     "metadata": {},
     "output_type": "execute_result"
    }
   ],
   "source": [
    "new_df['Balance'].min(), new_df['Balance'].max()"
   ]
  },
  {
   "cell_type": "code",
   "execution_count": 27,
   "id": "10e9983f",
   "metadata": {},
   "outputs": [],
   "source": [
    "x_sch = bqplot.LinearScale()\n",
    "y_sch = bqplot.LinearScale()\n",
    "\n",
    "x_axh = bqplot.Axis(label = 'Age', scale=x_sch)\n",
    "y_axh = bqplot.Axis(label = 'Total Balance', scale=y_sch, orientation='vertical')\n"
   ]
  },
  {
   "cell_type": "code",
   "execution_count": 28,
   "id": "9e4626b8",
   "metadata": {},
   "outputs": [],
   "source": [
    "# Getting parameters for the histogram\n",
    "\n",
    "dur, dur_edges = np.histogram(new_df['Age'],\n",
    "                             weights = new_df['Balance'], bins=10)"
   ]
  },
  {
   "cell_type": "code",
   "execution_count": 29,
   "id": "2fdb7b34",
   "metadata": {},
   "outputs": [
    {
     "data": {
      "text/plain": [
       "array([ 1942042.45,  7141739.64, 18774251.78, 32598096.5 , 32092372.18,\n",
       "       23768923.49, 17977396.16, 13141516.99,  8324231.37,  3861952.81])"
      ]
     },
     "execution_count": 29,
     "metadata": {},
     "output_type": "execute_result"
    }
   ],
   "source": [
    "dur"
   ]
  },
  {
   "cell_type": "code",
   "execution_count": 30,
   "id": "f886d598",
   "metadata": {},
   "outputs": [
    {
     "data": {
      "text/plain": [
       "array([15. , 19.9, 24.8, 29.7, 34.6, 39.5, 44.4, 49.3, 54.2, 59.1, 64. ])"
      ]
     },
     "execution_count": 30,
     "metadata": {},
     "output_type": "execute_result"
    }
   ],
   "source": [
    "dur_edges"
   ]
  },
  {
   "cell_type": "code",
   "execution_count": 31,
   "id": "1b85b490",
   "metadata": {},
   "outputs": [
    {
     "data": {
      "text/plain": [
       "(10, 11)"
      ]
     },
     "execution_count": 31,
     "metadata": {},
     "output_type": "execute_result"
    }
   ],
   "source": [
    "len(dur), len(dur_edges)"
   ]
  },
  {
   "cell_type": "code",
   "execution_count": 32,
   "id": "ffb69bcf",
   "metadata": {},
   "outputs": [],
   "source": [
    "dur_centers = (dur_edges[:-1] + dur_edges[1:]) / 2 "
   ]
  },
  {
   "cell_type": "code",
   "execution_count": 33,
   "id": "93886dc3",
   "metadata": {},
   "outputs": [
    {
     "data": {
      "text/plain": [
       "array([17.45, 22.35, 27.25, 32.15, 37.05, 41.95, 46.85, 51.75, 56.65,\n",
       "       61.55])"
      ]
     },
     "execution_count": 33,
     "metadata": {},
     "output_type": "execute_result"
    }
   ],
   "source": [
    "dur_centers"
   ]
  },
  {
   "cell_type": "code",
   "execution_count": 34,
   "id": "a27e2767",
   "metadata": {},
   "outputs": [],
   "source": [
    "# Using bqplot.Bars for the histogram viz type\n",
    "\n",
    "sq_hist = bqplot.Bars(x = dur_centers, y=dur, scales = {'x': x_sch, 'y': y_sch})"
   ]
  },
  {
   "cell_type": "code",
   "execution_count": 35,
   "id": "62c81ffc",
   "metadata": {},
   "outputs": [],
   "source": [
    "fig_bars = bqplot.Figure(marks=[sq_hist], axes=[x_axh, y_axh])"
   ]
  },
  {
   "cell_type": "code",
   "execution_count": 36,
   "id": "c9da530a",
   "metadata": {},
   "outputs": [
    {
     "data": {
      "application/vnd.jupyter.widget-view+json": {
       "model_id": "50cbb226ea1f47bca4e82a67b7b79ef8",
       "version_major": 2,
       "version_minor": 0
      },
      "text/plain": [
       "Figure(axes=[Axis(label='Age', scale=LinearScale()), Axis(label='Total Balance', orientation='vertical', scale…"
      ]
     },
     "metadata": {},
     "output_type": "display_data"
    }
   ],
   "source": [
    "fig_bars"
   ]
  },
  {
   "cell_type": "markdown",
   "id": "7bd0cf5e",
   "metadata": {},
   "source": [
    "# # Plotting heatmap and barplot together"
   ]
  },
  {
   "cell_type": "code",
   "execution_count": 37,
   "id": "6c136b73",
   "metadata": {},
   "outputs": [],
   "source": [
    "def get_data_value(change):\n",
    "    i,j = change['owner'].selected[0]\n",
    "    mask = (df['Region'] == piv_table.index[i]) & \\\n",
    "            (df['Job Classification'] == piv_table.columns.levels[1][j])\n",
    "    \n",
    "    \n",
    "    data1=df[mask]\n",
    "    \n",
    "    grouped = data1.groupby('Age')['Balance'].sum()\n",
    "    years = grouped.index\n",
    "    sqft = grouped.values\n",
    "    sq_hist.x = years\n",
    "    sq_hist.y = sqft\n",
    "    \n",
    "heat_map.observe(get_data_value, 'selected')"
   ]
  },
  {
   "cell_type": "code",
   "execution_count": 38,
   "id": "accbd340",
   "metadata": {},
   "outputs": [],
   "source": [
    "figures= ipywidgets.HBox([fig, fig_bars])\n",
    "fig.layout.min_width = '800px'\n",
    "fig_bars.layout.min_width = '800px'\n",
    "finaldashboard= ipywidgets.VBox([myLabel, figures])"
   ]
  },
  {
   "cell_type": "code",
   "execution_count": 39,
   "id": "cfff04f3",
   "metadata": {},
   "outputs": [
    {
     "data": {
      "application/vnd.jupyter.widget-view+json": {
       "model_id": "cf9196d8ab164e7e96224cbd1d948039",
       "version_major": 2,
       "version_minor": 0
      },
      "text/plain": [
       "VBox(children=(Label(value=''), HBox(children=(Figure(axes=[ColorAxis(orientation='vertical', scale=ColorScale…"
      ]
     },
     "metadata": {},
     "output_type": "display_data"
    }
   ],
   "source": [
    "finaldashboard"
   ]
  },
  {
   "cell_type": "markdown",
   "id": "bcc15e1e",
   "metadata": {},
   "source": [
    "# Central Interactive Visual 2"
   ]
  },
  {
   "cell_type": "markdown",
   "id": "1be57f1f",
   "metadata": {},
   "source": [
    "Drawing heatmap"
   ]
  },
  {
   "cell_type": "code",
   "execution_count": 40,
   "id": "06a1864a",
   "metadata": {},
   "outputs": [],
   "source": [
    "piv_table2 = pd.pivot_table(df, values=['Balance'],\n",
    "                          index = ['Region'],\n",
    "                          columns = ['Gender'],\n",
    "                          aggfunc = np.mean, fill_value=0)"
   ]
  },
  {
   "cell_type": "code",
   "execution_count": 41,
   "id": "8dac9aeb",
   "metadata": {},
   "outputs": [
    {
     "data": {
      "text/html": [
       "<div>\n",
       "<style scoped>\n",
       "    .dataframe tbody tr th:only-of-type {\n",
       "        vertical-align: middle;\n",
       "    }\n",
       "\n",
       "    .dataframe tbody tr th {\n",
       "        vertical-align: top;\n",
       "    }\n",
       "\n",
       "    .dataframe thead tr th {\n",
       "        text-align: left;\n",
       "    }\n",
       "\n",
       "    .dataframe thead tr:last-of-type th {\n",
       "        text-align: right;\n",
       "    }\n",
       "</style>\n",
       "<table border=\"1\" class=\"dataframe\">\n",
       "  <thead>\n",
       "    <tr>\n",
       "      <th></th>\n",
       "      <th colspan=\"2\" halign=\"left\">Balance</th>\n",
       "    </tr>\n",
       "    <tr>\n",
       "      <th>Gender</th>\n",
       "      <th>Female</th>\n",
       "      <th>Male</th>\n",
       "    </tr>\n",
       "    <tr>\n",
       "      <th>Region</th>\n",
       "      <th></th>\n",
       "      <th></th>\n",
       "    </tr>\n",
       "  </thead>\n",
       "  <tbody>\n",
       "    <tr>\n",
       "      <th>England</th>\n",
       "      <td>39988.979505</td>\n",
       "      <td>38581.854270</td>\n",
       "    </tr>\n",
       "    <tr>\n",
       "      <th>Northern Ireland</th>\n",
       "      <td>38769.423567</td>\n",
       "      <td>41643.831296</td>\n",
       "    </tr>\n",
       "    <tr>\n",
       "      <th>Scotland</th>\n",
       "      <td>37306.419060</td>\n",
       "      <td>40385.072099</td>\n",
       "    </tr>\n",
       "    <tr>\n",
       "      <th>Wales</th>\n",
       "      <td>40312.093085</td>\n",
       "      <td>44852.180714</td>\n",
       "    </tr>\n",
       "  </tbody>\n",
       "</table>\n",
       "</div>"
      ],
      "text/plain": [
       "                       Balance              \n",
       "Gender                  Female          Male\n",
       "Region                                      \n",
       "England           39988.979505  38581.854270\n",
       "Northern Ireland  38769.423567  41643.831296\n",
       "Scotland          37306.419060  40385.072099\n",
       "Wales             40312.093085  44852.180714"
      ]
     },
     "execution_count": 41,
     "metadata": {},
     "output_type": "execute_result"
    }
   ],
   "source": [
    "piv_table2"
   ]
  },
  {
   "cell_type": "code",
   "execution_count": 42,
   "id": "441abc5a",
   "metadata": {},
   "outputs": [
    {
     "data": {
      "text/plain": [
       "(4, 2)"
      ]
     },
     "execution_count": 42,
     "metadata": {},
     "output_type": "execute_result"
    }
   ],
   "source": [
    "piv_table2.shape"
   ]
  },
  {
   "cell_type": "code",
   "execution_count": 43,
   "id": "75ce1d34",
   "metadata": {},
   "outputs": [],
   "source": [
    "# We are defining a label by using the ipywidgets\n",
    "\n",
    "myLabel2 = ipywidgets.Label()"
   ]
  },
  {
   "cell_type": "code",
   "execution_count": 44,
   "id": "2134bae4",
   "metadata": {},
   "outputs": [],
   "source": [
    "mylist2=[]"
   ]
  },
  {
   "cell_type": "code",
   "execution_count": 45,
   "id": "b3fbb225",
   "metadata": {},
   "outputs": [
    {
     "data": {
      "application/vnd.jupyter.widget-view+json": {
       "model_id": "d3b12471a4414b38a198537dd6af4cac",
       "version_major": 2,
       "version_minor": 0
      },
      "text/plain": [
       "VBox(children=(Label(value=''), Figure(axes=[ColorAxis(orientation='vertical', scale=ColorScale(scheme='Defaul…"
      ]
     },
     "metadata": {},
     "output_type": "display_data"
    }
   ],
   "source": [
    "# I am defining out on_selection function to ensure correct interactivity and desired output\n",
    "\n",
    "def on_selected(change):\n",
    "    if len(change['owner'].selected)==1:\n",
    "        i,j = change['owner'].selected[0]\n",
    "        v = piv_table2.values[i,j]\n",
    "        myLabel2.value = 'Mean Data Value = ' + str(v)\n",
    "        \n",
    "\n",
    "# I am hard codding the parameter for our visualization\n",
    "        \n",
    "col_sc = bqplot.ColorScale(scheme='Default')\n",
    "x_sc = bqplot.OrdinalScale()\n",
    "y_sc = bqplot.OrdinalScale()\n",
    "\n",
    "\n",
    "ax_col = bqplot.ColorAxis(scale=col_sc, orientation='vertical', side='right')\n",
    "ax_x = bqplot.Axis(scale=x_sc)\n",
    "ax_y = bqplot.Axis(scale=y_sc, orientation='vertical')\n",
    "\n",
    "my_list2 = piv_table2.columns.values.tolist()\n",
    "\n",
    "my_list2 = piv_table2.columns.levels[1].to_list()\n",
    "\n",
    "\n",
    "# I am using the GridHeatMap visualization from bqplot and adding a lot of customizable parameters\n",
    "\n",
    "heat_map2 = bqplot.GridHeatMap(color=piv_table2.values,\n",
    "                             row=piv_table2.index,\n",
    "                             column= my_list2, \n",
    "                             scales={'color':col_sc,'row':y_sc, 'column':x_sc},\n",
    "                             interactions= {'click':'select'},\n",
    "                                anchor_style={'fill':'white'},\n",
    "                             selected_style= {'opacity': 1.0},\n",
    "                             unselected_style={'opacity': 0.8})\n",
    "\n",
    "heat_map2.observe(on_selected,'selected')\n",
    "\n",
    "fig2 = bqplot.Figure(marks=[heat_map2], axes=[ax_col, ax_x, ax_y])\n",
    "\n",
    "myDashboard2 = ipywidgets.VBox([myLabel2, fig2])\n",
    "myDashboard2"
   ]
  },
  {
   "cell_type": "markdown",
   "id": "4f8f3d59",
   "metadata": {},
   "source": [
    "Drawing scatter plot"
   ]
  },
  {
   "cell_type": "code",
   "execution_count": 46,
   "id": "81ef93b2",
   "metadata": {},
   "outputs": [],
   "source": [
    "import bqplot.pyplot as plt"
   ]
  },
  {
   "cell_type": "code",
   "execution_count": 47,
   "id": "7cda5c31",
   "metadata": {},
   "outputs": [],
   "source": [
    "sc_x = bqplot.LinearScale()\n",
    "sc_y = bqplot.LinearScale()\n",
    "\n",
    "scatt = bqplot.Scatter(x=df['Age'], y=df['Balance'], scales={\"x\": sc_x, \"y\": sc_y})\n",
    "ax_x = bqplot.Axis(scale=sc_x, label=\"Balance\")\n",
    "ax_y = bqplot.Axis(scale=sc_y, orientation=\"vertical\", tick_format=\"0.0f\", label=\"Age\")\n",
    "\n",
    "fig3 = bqplot.Figure(marks=[scatt], axes=[x_axh, y_axh])"
   ]
  },
  {
   "cell_type": "code",
   "execution_count": 48,
   "id": "e3a7862e",
   "metadata": {},
   "outputs": [
    {
     "data": {
      "application/vnd.jupyter.widget-view+json": {
       "model_id": "1380cada91414b18b22044ae6a185cfe",
       "version_major": 2,
       "version_minor": 0
      },
      "text/plain": [
       "Figure(axes=[Axis(label='Age', scale=LinearScale()), Axis(label='Total Balance', orientation='vertical', scale…"
      ]
     },
     "metadata": {},
     "output_type": "display_data"
    }
   ],
   "source": [
    "fig3"
   ]
  },
  {
   "cell_type": "markdown",
   "id": "6d27d282",
   "metadata": {},
   "source": [
    "# Putting elements together"
   ]
  },
  {
   "cell_type": "code",
   "execution_count": 49,
   "id": "539e28d4",
   "metadata": {},
   "outputs": [],
   "source": [
    "def get_data_value(change):\n",
    "    i,j = change['owner'].selected[0]\n",
    "    mask = (df['Region'] == piv_table2.index[i]) & \\\n",
    "            (df['Gender'] == piv_table2.columns.levels[1][j])\n",
    "    \n",
    "    \n",
    "    data2=df[mask]\n",
    "    \n",
    "    grouped = data2.groupby('Age')['Balance'].sum()\n",
    "    years = grouped.index\n",
    "    sqft = grouped.values\n",
    "    sq_hist.x = years\n",
    "    sq_hist.y = sqft\n",
    "    \n",
    "heat_map2.observe(get_data_value, 'selected')"
   ]
  },
  {
   "cell_type": "code",
   "execution_count": 50,
   "id": "d08b2b44",
   "metadata": {},
   "outputs": [],
   "source": [
    "figures2= ipywidgets.HBox([fig2, fig3])\n",
    "fig2.layout.min_width = '800px'\n",
    "fig3.layout.min_width = '800px'\n",
    "finaldashboard2= ipywidgets.VBox([myLabel2, figures2])"
   ]
  },
  {
   "cell_type": "code",
   "execution_count": 51,
   "id": "bfa43f22",
   "metadata": {},
   "outputs": [
    {
     "data": {
      "application/vnd.jupyter.widget-view+json": {
       "model_id": "49ac31686bbf4e04a93fee9c7ba7bfec",
       "version_major": 2,
       "version_minor": 0
      },
      "text/plain": [
       "VBox(children=(Label(value=''), HBox(children=(Figure(axes=[ColorAxis(orientation='vertical', scale=ColorScale…"
      ]
     },
     "metadata": {},
     "output_type": "display_data"
    }
   ],
   "source": [
    "finaldashboard2"
   ]
  },
  {
   "cell_type": "markdown",
   "id": "c6ff5339",
   "metadata": {},
   "source": [
    "## Explanation of our Visualizations"
   ]
  },
  {
   "cell_type": "markdown",
   "id": "5f1f5ec1",
   "metadata": {},
   "source": [
    "The dataset we are using is a collection of the amount a person has deposited in a UK Bank. There are 4 regions - Wales, Scotland, Northern Ireland and England. People are divided into 2 genders - Male and Female. They have 3 job classifications - Blue Collar, White Collar, Other. Hence, this dataset can be used to do a comparitive study between these distinctions and the amount of money each classification has deposited in the bank allowing us to see the segregation of money deposited in the bank.\n",
    "\n",
    "Our first Central Interactive visualization is a Heatmap and Barplot. The Heatmap is between Region and Job Classification and the values it shows are the Total Balance falling under those brackets. The barplot is between Age group and Total Balance.\n",
    "The heatmap allows us to see which Region and which Job classification has the most balance or basically which region and which job classification has the most amount of balance deposited in the bank. Here green shows most and red shows the least. Further the barplot shows the age groups which has the most amount of balance deposited in the bank. Hence the data can be used to formulate targetted strategies and can be used by banks and corporates to study the amount of balance a section has.\n",
    "\n",
    "Our second Central Interactive visualization is a Heatmap and Scatterplot. The Heatmap is between Region and Gender and the values it shows are the Total Balance falling under those brackets. The scatterplot is between Age group and Total Balance.\n",
    "The heatmap allows us to see which Region and which Gender has the most balance or basically which region and which Gender has the most amount of balance deposited in the bank. Here green shows most and red shows the least. Further the scatterplot shows the age groups which has the most amount of balance deposited in the bank. Hence the data can be used to formulate targetted strategies and can be used by banks and corporates to study the amount of balance distribution amongst genders across different regions."
   ]
  },
  {
   "cell_type": "markdown",
   "id": "00ca9215",
   "metadata": {},
   "source": [
    "# Citation of all data sources"
   ]
  },
  {
   "cell_type": "markdown",
   "id": "289bbb50",
   "metadata": {},
   "source": [
    "Name of the dataset is P1-UK-Bank-Customers. I found the dataset on the below web page under module 6, Table calculations, more Dashboard and Storytelling. I found the dataset quite useful when it comes to creating dashboard\n",
    "https://www.superdatascience.com/pages/tableau"
   ]
  },
  {
   "cell_type": "markdown",
   "id": "5e94f4f3",
   "metadata": {},
   "source": [
    "We can obtain it from this url -> https://sds-platform-private.s3-us-east-2.amazonaws.com/uploads/P1-UK-Bank-Customers.csv"
   ]
  },
  {
   "cell_type": "markdown",
   "id": "c10efd6a",
   "metadata": {},
   "source": [
    "# What I learned on my own & from my team members"
   ]
  },
  {
   "cell_type": "markdown",
   "id": "92e9faeb",
   "metadata": {},
   "source": [
    "Intially I was adept at making visulations and plots using seaborn library. I was good at using matplotlib too. But through this assignment I learned how to use matplotlib to create interactivity among plots. Creating interactivity in dashboards was new to me and this assignment helped me in mastering that.\n",
    "\n",
    "\n",
    "My team member Ayan was good in data cleaning, through him I learned about data cleaning and how to choose appropriate variables for different plots. Another teamate Manan was proficient in Matplotlib, whenever I was stuck at en error. He would help out and I learned how to debug matplotlib errors from him."
   ]
  },
  {
   "cell_type": "markdown",
   "id": "b23b84a4",
   "metadata": {},
   "source": [
    "# What things went according to group work plan submitted in Part2"
   ]
  },
  {
   "cell_type": "markdown",
   "id": "ee6f0ca2",
   "metadata": {},
   "source": [
    "During part2 we decided what central interactive visualizations we wanted to create and in Part3 we were successfully able to create them. We were also able to create contextual visualizations that we agreed on in part2 successfully."
   ]
  },
  {
   "cell_type": "markdown",
   "id": "da8ff620",
   "metadata": {},
   "source": [
    "# What things I would do differently next time"
   ]
  },
  {
   "cell_type": "markdown",
   "id": "d6313137",
   "metadata": {},
   "source": [
    "This time I was not able to use fields like 'Customer ID', 'Name', 'Surname', and 'Date Joined'. Next time I want to be able to use these fields when creating plots"
   ]
  }
 ],
 "metadata": {
  "kernelspec": {
   "display_name": "Python 3 (ipykernel)",
   "language": "python",
   "name": "python3"
  },
  "language_info": {
   "codemirror_mode": {
    "name": "ipython",
    "version": 3
   },
   "file_extension": ".py",
   "mimetype": "text/x-python",
   "name": "python",
   "nbconvert_exporter": "python",
   "pygments_lexer": "ipython3",
   "version": "3.8.13"
  }
 },
 "nbformat": 4,
 "nbformat_minor": 5
}
